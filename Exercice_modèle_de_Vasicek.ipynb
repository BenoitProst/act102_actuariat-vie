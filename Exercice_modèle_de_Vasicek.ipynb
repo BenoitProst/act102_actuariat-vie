{
  "nbformat": 4,
  "nbformat_minor": 0,
  "metadata": {
    "colab": {
      "provenance": [],
      "mount_file_id": "1DWVRw5KhG-61PH9fVZc7SB70-gM7VR9t",
      "authorship_tag": "ABX9TyOaqzvMRFdwcQ8xRE91p6gs",
      "include_colab_link": true
    },
    "kernelspec": {
      "name": "python3",
      "display_name": "Python 3"
    },
    "language_info": {
      "name": "python"
    }
  },
  "cells": [
    {
      "cell_type": "markdown",
      "metadata": {
        "id": "view-in-github",
        "colab_type": "text"
      },
      "source": [
        "<a href=\"https://colab.research.google.com/github/BenoitProst/act102_actuariat-vie/blob/main/Exercice_mod%C3%A8le_de_Vasicek.ipynb\" target=\"_parent\"><img src=\"https://colab.research.google.com/assets/colab-badge.svg\" alt=\"Open In Colab\"/></a>"
      ]
    },
    {
      "cell_type": "markdown",
      "source": [
        "[Lien du Notebook vers commit Github](https://github.com/BenoitProst/act102_actuariat-vie/blob/9465b474717b19ab786cddc00c8ddd03456202c3/Exercice_mod%C3%A8le_de_Vasicek.ipynb)"
      ],
      "metadata": {
        "id": "alXPktx894rV"
      }
    },
    {
      "cell_type": "code",
      "execution_count": 2,
      "metadata": {
        "id": "2fD38_AlD0Xj"
      },
      "outputs": [],
      "source": [
        "import pandas as pd\n",
        "import matplotlib.pyplot as plt\n",
        "from sklearn.linear_model import LinearRegression\n",
        "import numpy as np"
      ]
    },
    {
      "cell_type": "markdown",
      "source": [
        "## On importe les données de l'Euribor 1 mois sur l'année 2023"
      ],
      "metadata": {
        "id": "MfnK4bZDEFai"
      }
    },
    {
      "cell_type": "code",
      "source": [
        "chemin_fichier = \"/content/drive/MyDrive/Développement compétences/CNAM Master 1 actuariat/ACT102 - Actuariat Vie/Exercice modèle de Vasicek/Euribor 2023 1 mois.csv\""
      ],
      "metadata": {
        "id": "Pfz0CI8-EMff"
      },
      "execution_count": 3,
      "outputs": []
    },
    {
      "cell_type": "code",
      "source": [
        "df = pd.read_csv(chemin_fichier, sep=',')"
      ],
      "metadata": {
        "id": "rAia0Yj3Hc6x"
      },
      "execution_count": 4,
      "outputs": []
    },
    {
      "cell_type": "code",
      "source": [
        "df['Date'] = pd.to_datetime(df['Date'], format='%d/%m/%Y')"
      ],
      "metadata": {
        "id": "DF5WV_kLIg7I"
      },
      "execution_count": 5,
      "outputs": []
    },
    {
      "cell_type": "code",
      "source": [
        "df['1 week'] = df['1 week'].str.replace(',', '.').astype(float)\n",
        "df['1 month'] = df['1 month'].str.replace(',', '.').astype(float)\n",
        "df['3 month'] = df['3 month'].str.replace(',', '.').astype(float)\n",
        "df['6 month'] = df['6 month'].str.replace(',', '.').astype(float)\n",
        "df['12 month'] = df['12 month'].str.replace(',', '.').astype(float)"
      ],
      "metadata": {
        "id": "OMKLCB98JeX_"
      },
      "execution_count": 6,
      "outputs": []
    },
    {
      "cell_type": "code",
      "source": [
        "df.dtypes"
      ],
      "metadata": {
        "colab": {
          "base_uri": "https://localhost:8080/"
        },
        "id": "QlAvF9XxIgFu",
        "outputId": "2cff697e-3e3f-47d3-e0fa-637f42c72e5c"
      },
      "execution_count": 7,
      "outputs": [
        {
          "output_type": "execute_result",
          "data": {
            "text/plain": [
              "Date        datetime64[ns]\n",
              "1 week             float64\n",
              "1 month            float64\n",
              "3 month            float64\n",
              "6 month            float64\n",
              "12 month           float64\n",
              "dtype: object"
            ]
          },
          "metadata": {},
          "execution_count": 7
        }
      ]
    },
    {
      "cell_type": "code",
      "source": [
        "df"
      ],
      "metadata": {
        "colab": {
          "base_uri": "https://localhost:8080/",
          "height": 424
        },
        "id": "yDjN9-8gJyBv",
        "outputId": "5db3aa79-f647-4338-9a6d-319226b2bc8f"
      },
      "execution_count": 8,
      "outputs": [
        {
          "output_type": "execute_result",
          "data": {
            "text/plain": [
              "          Date  1 week  1 month  3 month  6 month  12 month\n",
              "0   2023-01-02   1.876    1.883    2.162    2.732     3.316\n",
              "1   2023-01-03   1.838    1.854    2.172    2.739     3.321\n",
              "2   2023-01-04   1.882    1.888    2.170    2.761     3.312\n",
              "3   2023-01-05   1.878    1.894    2.178    2.772     3.303\n",
              "4   2023-01-06   1.890    1.904    2.254    2.805     3.328\n",
              "..         ...     ...      ...      ...      ...       ...\n",
              "250 2023-12-21   3.852    3.876    3.916    3.899     3.582\n",
              "251 2023-12-22   3.872    3.865    3.931    3.895     3.581\n",
              "252 2023-12-27   3.857    3.843    3.925    3.885     3.554\n",
              "253 2023-12-28   3.883    3.872    3.893    3.877     3.536\n",
              "254 2023-12-29   3.900    3.845    3.909    3.861     3.513\n",
              "\n",
              "[255 rows x 6 columns]"
            ],
            "text/html": [
              "\n",
              "  <div id=\"df-4a29f053-c5c5-40e3-854e-abd3914a082c\" class=\"colab-df-container\">\n",
              "    <div>\n",
              "<style scoped>\n",
              "    .dataframe tbody tr th:only-of-type {\n",
              "        vertical-align: middle;\n",
              "    }\n",
              "\n",
              "    .dataframe tbody tr th {\n",
              "        vertical-align: top;\n",
              "    }\n",
              "\n",
              "    .dataframe thead th {\n",
              "        text-align: right;\n",
              "    }\n",
              "</style>\n",
              "<table border=\"1\" class=\"dataframe\">\n",
              "  <thead>\n",
              "    <tr style=\"text-align: right;\">\n",
              "      <th></th>\n",
              "      <th>Date</th>\n",
              "      <th>1 week</th>\n",
              "      <th>1 month</th>\n",
              "      <th>3 month</th>\n",
              "      <th>6 month</th>\n",
              "      <th>12 month</th>\n",
              "    </tr>\n",
              "  </thead>\n",
              "  <tbody>\n",
              "    <tr>\n",
              "      <th>0</th>\n",
              "      <td>2023-01-02</td>\n",
              "      <td>1.876</td>\n",
              "      <td>1.883</td>\n",
              "      <td>2.162</td>\n",
              "      <td>2.732</td>\n",
              "      <td>3.316</td>\n",
              "    </tr>\n",
              "    <tr>\n",
              "      <th>1</th>\n",
              "      <td>2023-01-03</td>\n",
              "      <td>1.838</td>\n",
              "      <td>1.854</td>\n",
              "      <td>2.172</td>\n",
              "      <td>2.739</td>\n",
              "      <td>3.321</td>\n",
              "    </tr>\n",
              "    <tr>\n",
              "      <th>2</th>\n",
              "      <td>2023-01-04</td>\n",
              "      <td>1.882</td>\n",
              "      <td>1.888</td>\n",
              "      <td>2.170</td>\n",
              "      <td>2.761</td>\n",
              "      <td>3.312</td>\n",
              "    </tr>\n",
              "    <tr>\n",
              "      <th>3</th>\n",
              "      <td>2023-01-05</td>\n",
              "      <td>1.878</td>\n",
              "      <td>1.894</td>\n",
              "      <td>2.178</td>\n",
              "      <td>2.772</td>\n",
              "      <td>3.303</td>\n",
              "    </tr>\n",
              "    <tr>\n",
              "      <th>4</th>\n",
              "      <td>2023-01-06</td>\n",
              "      <td>1.890</td>\n",
              "      <td>1.904</td>\n",
              "      <td>2.254</td>\n",
              "      <td>2.805</td>\n",
              "      <td>3.328</td>\n",
              "    </tr>\n",
              "    <tr>\n",
              "      <th>...</th>\n",
              "      <td>...</td>\n",
              "      <td>...</td>\n",
              "      <td>...</td>\n",
              "      <td>...</td>\n",
              "      <td>...</td>\n",
              "      <td>...</td>\n",
              "    </tr>\n",
              "    <tr>\n",
              "      <th>250</th>\n",
              "      <td>2023-12-21</td>\n",
              "      <td>3.852</td>\n",
              "      <td>3.876</td>\n",
              "      <td>3.916</td>\n",
              "      <td>3.899</td>\n",
              "      <td>3.582</td>\n",
              "    </tr>\n",
              "    <tr>\n",
              "      <th>251</th>\n",
              "      <td>2023-12-22</td>\n",
              "      <td>3.872</td>\n",
              "      <td>3.865</td>\n",
              "      <td>3.931</td>\n",
              "      <td>3.895</td>\n",
              "      <td>3.581</td>\n",
              "    </tr>\n",
              "    <tr>\n",
              "      <th>252</th>\n",
              "      <td>2023-12-27</td>\n",
              "      <td>3.857</td>\n",
              "      <td>3.843</td>\n",
              "      <td>3.925</td>\n",
              "      <td>3.885</td>\n",
              "      <td>3.554</td>\n",
              "    </tr>\n",
              "    <tr>\n",
              "      <th>253</th>\n",
              "      <td>2023-12-28</td>\n",
              "      <td>3.883</td>\n",
              "      <td>3.872</td>\n",
              "      <td>3.893</td>\n",
              "      <td>3.877</td>\n",
              "      <td>3.536</td>\n",
              "    </tr>\n",
              "    <tr>\n",
              "      <th>254</th>\n",
              "      <td>2023-12-29</td>\n",
              "      <td>3.900</td>\n",
              "      <td>3.845</td>\n",
              "      <td>3.909</td>\n",
              "      <td>3.861</td>\n",
              "      <td>3.513</td>\n",
              "    </tr>\n",
              "  </tbody>\n",
              "</table>\n",
              "<p>255 rows × 6 columns</p>\n",
              "</div>\n",
              "    <div class=\"colab-df-buttons\">\n",
              "\n",
              "  <div class=\"colab-df-container\">\n",
              "    <button class=\"colab-df-convert\" onclick=\"convertToInteractive('df-4a29f053-c5c5-40e3-854e-abd3914a082c')\"\n",
              "            title=\"Convert this dataframe to an interactive table.\"\n",
              "            style=\"display:none;\">\n",
              "\n",
              "  <svg xmlns=\"http://www.w3.org/2000/svg\" height=\"24px\" viewBox=\"0 -960 960 960\">\n",
              "    <path d=\"M120-120v-720h720v720H120Zm60-500h600v-160H180v160Zm220 220h160v-160H400v160Zm0 220h160v-160H400v160ZM180-400h160v-160H180v160Zm440 0h160v-160H620v160ZM180-180h160v-160H180v160Zm440 0h160v-160H620v160Z\"/>\n",
              "  </svg>\n",
              "    </button>\n",
              "\n",
              "  <style>\n",
              "    .colab-df-container {\n",
              "      display:flex;\n",
              "      gap: 12px;\n",
              "    }\n",
              "\n",
              "    .colab-df-convert {\n",
              "      background-color: #E8F0FE;\n",
              "      border: none;\n",
              "      border-radius: 50%;\n",
              "      cursor: pointer;\n",
              "      display: none;\n",
              "      fill: #1967D2;\n",
              "      height: 32px;\n",
              "      padding: 0 0 0 0;\n",
              "      width: 32px;\n",
              "    }\n",
              "\n",
              "    .colab-df-convert:hover {\n",
              "      background-color: #E2EBFA;\n",
              "      box-shadow: 0px 1px 2px rgba(60, 64, 67, 0.3), 0px 1px 3px 1px rgba(60, 64, 67, 0.15);\n",
              "      fill: #174EA6;\n",
              "    }\n",
              "\n",
              "    .colab-df-buttons div {\n",
              "      margin-bottom: 4px;\n",
              "    }\n",
              "\n",
              "    [theme=dark] .colab-df-convert {\n",
              "      background-color: #3B4455;\n",
              "      fill: #D2E3FC;\n",
              "    }\n",
              "\n",
              "    [theme=dark] .colab-df-convert:hover {\n",
              "      background-color: #434B5C;\n",
              "      box-shadow: 0px 1px 3px 1px rgba(0, 0, 0, 0.15);\n",
              "      filter: drop-shadow(0px 1px 2px rgba(0, 0, 0, 0.3));\n",
              "      fill: #FFFFFF;\n",
              "    }\n",
              "  </style>\n",
              "\n",
              "    <script>\n",
              "      const buttonEl =\n",
              "        document.querySelector('#df-4a29f053-c5c5-40e3-854e-abd3914a082c button.colab-df-convert');\n",
              "      buttonEl.style.display =\n",
              "        google.colab.kernel.accessAllowed ? 'block' : 'none';\n",
              "\n",
              "      async function convertToInteractive(key) {\n",
              "        const element = document.querySelector('#df-4a29f053-c5c5-40e3-854e-abd3914a082c');\n",
              "        const dataTable =\n",
              "          await google.colab.kernel.invokeFunction('convertToInteractive',\n",
              "                                                    [key], {});\n",
              "        if (!dataTable) return;\n",
              "\n",
              "        const docLinkHtml = 'Like what you see? Visit the ' +\n",
              "          '<a target=\"_blank\" href=https://colab.research.google.com/notebooks/data_table.ipynb>data table notebook</a>'\n",
              "          + ' to learn more about interactive tables.';\n",
              "        element.innerHTML = '';\n",
              "        dataTable['output_type'] = 'display_data';\n",
              "        await google.colab.output.renderOutput(dataTable, element);\n",
              "        const docLink = document.createElement('div');\n",
              "        docLink.innerHTML = docLinkHtml;\n",
              "        element.appendChild(docLink);\n",
              "      }\n",
              "    </script>\n",
              "  </div>\n",
              "\n",
              "\n",
              "<div id=\"df-795601bf-0630-45bf-9185-f1bb8e5a5e8d\">\n",
              "  <button class=\"colab-df-quickchart\" onclick=\"quickchart('df-795601bf-0630-45bf-9185-f1bb8e5a5e8d')\"\n",
              "            title=\"Suggest charts\"\n",
              "            style=\"display:none;\">\n",
              "\n",
              "<svg xmlns=\"http://www.w3.org/2000/svg\" height=\"24px\"viewBox=\"0 0 24 24\"\n",
              "     width=\"24px\">\n",
              "    <g>\n",
              "        <path d=\"M19 3H5c-1.1 0-2 .9-2 2v14c0 1.1.9 2 2 2h14c1.1 0 2-.9 2-2V5c0-1.1-.9-2-2-2zM9 17H7v-7h2v7zm4 0h-2V7h2v10zm4 0h-2v-4h2v4z\"/>\n",
              "    </g>\n",
              "</svg>\n",
              "  </button>\n",
              "\n",
              "<style>\n",
              "  .colab-df-quickchart {\n",
              "      --bg-color: #E8F0FE;\n",
              "      --fill-color: #1967D2;\n",
              "      --hover-bg-color: #E2EBFA;\n",
              "      --hover-fill-color: #174EA6;\n",
              "      --disabled-fill-color: #AAA;\n",
              "      --disabled-bg-color: #DDD;\n",
              "  }\n",
              "\n",
              "  [theme=dark] .colab-df-quickchart {\n",
              "      --bg-color: #3B4455;\n",
              "      --fill-color: #D2E3FC;\n",
              "      --hover-bg-color: #434B5C;\n",
              "      --hover-fill-color: #FFFFFF;\n",
              "      --disabled-bg-color: #3B4455;\n",
              "      --disabled-fill-color: #666;\n",
              "  }\n",
              "\n",
              "  .colab-df-quickchart {\n",
              "    background-color: var(--bg-color);\n",
              "    border: none;\n",
              "    border-radius: 50%;\n",
              "    cursor: pointer;\n",
              "    display: none;\n",
              "    fill: var(--fill-color);\n",
              "    height: 32px;\n",
              "    padding: 0;\n",
              "    width: 32px;\n",
              "  }\n",
              "\n",
              "  .colab-df-quickchart:hover {\n",
              "    background-color: var(--hover-bg-color);\n",
              "    box-shadow: 0 1px 2px rgba(60, 64, 67, 0.3), 0 1px 3px 1px rgba(60, 64, 67, 0.15);\n",
              "    fill: var(--button-hover-fill-color);\n",
              "  }\n",
              "\n",
              "  .colab-df-quickchart-complete:disabled,\n",
              "  .colab-df-quickchart-complete:disabled:hover {\n",
              "    background-color: var(--disabled-bg-color);\n",
              "    fill: var(--disabled-fill-color);\n",
              "    box-shadow: none;\n",
              "  }\n",
              "\n",
              "  .colab-df-spinner {\n",
              "    border: 2px solid var(--fill-color);\n",
              "    border-color: transparent;\n",
              "    border-bottom-color: var(--fill-color);\n",
              "    animation:\n",
              "      spin 1s steps(1) infinite;\n",
              "  }\n",
              "\n",
              "  @keyframes spin {\n",
              "    0% {\n",
              "      border-color: transparent;\n",
              "      border-bottom-color: var(--fill-color);\n",
              "      border-left-color: var(--fill-color);\n",
              "    }\n",
              "    20% {\n",
              "      border-color: transparent;\n",
              "      border-left-color: var(--fill-color);\n",
              "      border-top-color: var(--fill-color);\n",
              "    }\n",
              "    30% {\n",
              "      border-color: transparent;\n",
              "      border-left-color: var(--fill-color);\n",
              "      border-top-color: var(--fill-color);\n",
              "      border-right-color: var(--fill-color);\n",
              "    }\n",
              "    40% {\n",
              "      border-color: transparent;\n",
              "      border-right-color: var(--fill-color);\n",
              "      border-top-color: var(--fill-color);\n",
              "    }\n",
              "    60% {\n",
              "      border-color: transparent;\n",
              "      border-right-color: var(--fill-color);\n",
              "    }\n",
              "    80% {\n",
              "      border-color: transparent;\n",
              "      border-right-color: var(--fill-color);\n",
              "      border-bottom-color: var(--fill-color);\n",
              "    }\n",
              "    90% {\n",
              "      border-color: transparent;\n",
              "      border-bottom-color: var(--fill-color);\n",
              "    }\n",
              "  }\n",
              "</style>\n",
              "\n",
              "  <script>\n",
              "    async function quickchart(key) {\n",
              "      const quickchartButtonEl =\n",
              "        document.querySelector('#' + key + ' button');\n",
              "      quickchartButtonEl.disabled = true;  // To prevent multiple clicks.\n",
              "      quickchartButtonEl.classList.add('colab-df-spinner');\n",
              "      try {\n",
              "        const charts = await google.colab.kernel.invokeFunction(\n",
              "            'suggestCharts', [key], {});\n",
              "      } catch (error) {\n",
              "        console.error('Error during call to suggestCharts:', error);\n",
              "      }\n",
              "      quickchartButtonEl.classList.remove('colab-df-spinner');\n",
              "      quickchartButtonEl.classList.add('colab-df-quickchart-complete');\n",
              "    }\n",
              "    (() => {\n",
              "      let quickchartButtonEl =\n",
              "        document.querySelector('#df-795601bf-0630-45bf-9185-f1bb8e5a5e8d button');\n",
              "      quickchartButtonEl.style.display =\n",
              "        google.colab.kernel.accessAllowed ? 'block' : 'none';\n",
              "    })();\n",
              "  </script>\n",
              "</div>\n",
              "    </div>\n",
              "  </div>\n"
            ],
            "application/vnd.google.colaboratory.intrinsic+json": {
              "type": "dataframe",
              "variable_name": "df",
              "summary": "{\n  \"name\": \"df\",\n  \"rows\": 255,\n  \"fields\": [\n    {\n      \"column\": \"Date\",\n      \"properties\": {\n        \"dtype\": \"date\",\n        \"min\": \"2023-01-02 00:00:00\",\n        \"max\": \"2023-12-29 00:00:00\",\n        \"num_unique_values\": 255,\n        \"samples\": [\n          \"2023-09-28 00:00:00\",\n          \"2023-01-10 00:00:00\",\n          \"2023-04-25 00:00:00\"\n        ],\n        \"semantic_type\": \"\",\n        \"description\": \"\"\n      }\n    },\n    {\n      \"column\": \"1 week\",\n      \"properties\": {\n        \"dtype\": \"number\",\n        \"std\": 0.6505893091807751,\n        \"min\": 1.838,\n        \"max\": 3.9,\n        \"num_unique_values\": 185,\n        \"samples\": [\n          2.148,\n          2.482,\n          3.896\n        ],\n        \"semantic_type\": \"\",\n        \"description\": \"\"\n      }\n    },\n    {\n      \"column\": \"1 month\",\n      \"properties\": {\n        \"dtype\": \"number\",\n        \"std\": 0.6067960812633263,\n        \"min\": 1.854,\n        \"max\": 3.893,\n        \"num_unique_values\": 208,\n        \"samples\": [\n          3.651,\n          2.014,\n          3.031\n        ],\n        \"semantic_type\": \"\",\n        \"description\": \"\"\n      }\n    },\n    {\n      \"column\": \"3 month\",\n      \"properties\": {\n        \"dtype\": \"number\",\n        \"std\": 0.5364193829963853,\n        \"min\": 2.162,\n        \"max\": 4.002,\n        \"num_unique_values\": 214,\n        \"samples\": [\n          2.328,\n          3.987,\n          3.126\n        ],\n        \"semantic_type\": \"\",\n        \"description\": \"\"\n      }\n    },\n    {\n      \"column\": \"6 month\",\n      \"properties\": {\n        \"dtype\": \"number\",\n        \"std\": 0.40252634400653603,\n        \"min\": 2.732,\n        \"max\": 4.143,\n        \"num_unique_values\": 207,\n        \"samples\": [\n          4.072,\n          2.917,\n          3.635\n        ],\n        \"semantic_type\": \"\",\n        \"description\": \"\"\n      }\n    },\n    {\n      \"column\": \"12 month\",\n      \"properties\": {\n        \"dtype\": \"number\",\n        \"std\": 0.27791435713674956,\n        \"min\": 3.3,\n        \"max\": 4.228,\n        \"num_unique_values\": 212,\n        \"samples\": [\n          3.518,\n          4.196,\n          4.053\n        ],\n        \"semantic_type\": \"\",\n        \"description\": \"\"\n      }\n    }\n  ]\n}"
            }
          },
          "metadata": {},
          "execution_count": 8
        }
      ]
    },
    {
      "cell_type": "markdown",
      "source": [
        "## Mettons les données réelles sous forme de graphique"
      ],
      "metadata": {
        "id": "2jA_x09_XdiX"
      }
    },
    {
      "cell_type": "code",
      "source": [
        "fig = plt.figure(figsize=(12, 8))\n",
        "ax = fig.add_subplot(111)\n",
        "ax.plot(df['Date'], df['1 month'], label='Taux Euribor 1 mois')\n",
        "ax.set_xlabel(\"Date\")\n",
        "ax.set_ylabel(\"Taux\")\n",
        "ax.legend()"
      ],
      "metadata": {
        "colab": {
          "base_uri": "https://localhost:8080/",
          "height": 713
        },
        "id": "yJhQtFsJKfNZ",
        "outputId": "12001a18-c277-4555-f3b1-c3387d770b6a"
      },
      "execution_count": 9,
      "outputs": [
        {
          "output_type": "execute_result",
          "data": {
            "text/plain": [
              "<matplotlib.legend.Legend at 0x7baf3978ad40>"
            ]
          },
          "metadata": {},
          "execution_count": 9
        },
        {
          "output_type": "display_data",
          "data": {
            "text/plain": [
              "<Figure size 1200x800 with 1 Axes>"
            ],
            "image/png": "[encoded data removed]"
          },
          "metadata": {}
        }
      ]
    },
    {
      "cell_type": "markdown",
      "source": [
        "## Estimons les paramètres du modèle de Vasicek avec la méthode des moindres carrés"
      ],
      "metadata": {
        "id": "B_5D3WcDXlyi"
      }
    },
    {
      "cell_type": "markdown",
      "source": [
        "Rappel de l'équation différentielle stochastique du modèle de vasicek\n",
        "\n",
        "$$\n",
        "dr_t = a(b - r_t) \\, dt + \\sigma \\, dW_t\n",
        "$$"
      ],
      "metadata": {
        "id": "RCEnA7mC23TU"
      }
    },
    {
      "cell_type": "markdown",
      "source": [
        "On le met sous forme discret\n",
        "$$\n",
        "r_{t+\\Delta t} = r_t + a(b - r_t)\\cdot \\Delta t + \\sigma \\sqrt{\\Delta t} \\cdot \\epsilon\n",
        "$$\n",
        "\n",
        "et on l'écrit sous forme linéaire\n",
        "$$\n",
        "r_{t+\\Delta t} = (1 - a \\cdot \\Delta t) \\cdot r_t + a \\cdot b \\cdot  \\Delta t + \\sigma \\sqrt{\\Delta t} \\cdot \\epsilon\n",
        "$$"
      ],
      "metadata": {
        "id": "kDci1h666cHA"
      }
    },
    {
      "cell_type": "code",
      "source": [
        "#Calcul de notre pas de temps (dt). Comme nous sommes sur une année, il est égal à un divisé par le nombre de jours de cotation\n",
        "# soit le nombre de lignes de notre dataframe\n",
        "dt = 1/len(df)"
      ],
      "metadata": {
        "id": "0hv6nfrESB56"
      },
      "execution_count": 12,
      "outputs": []
    },
    {
      "cell_type": "code",
      "source": [
        "# Création des 2 listes de taux avec décalage\n",
        "\n",
        "r0 = df['1 month'][:-1].values.reshape(-1, 1)  # Toutes les valeurs sauf la dernière\n",
        "r1 = df['1 month'][1:].values.reshape(-1, 1)   # Toutes les valeurs sauf la première"
      ],
      "metadata": {
        "id": "bHLNW9fLOFkC"
      },
      "execution_count": 13,
      "outputs": []
    },
    {
      "cell_type": "code",
      "source": [
        "def Vasicek_LS(r0, r1, dt):\n",
        "\n",
        "  #Régression linéaire\n",
        "  reg = LinearRegression().fit(r0, r1)\n",
        "\n",
        "  #Estimation a et b\n",
        "  a_LS = (1 - reg.coef_) / dt\n",
        "  b_LS = reg.intercept_ / dt / a_LS\n",
        "\n",
        "  #Estimation du sigma\n",
        "  epsilon = r1 - r0 * reg.coef_\n",
        "  sigma_LS = np.std(epsilon) / np.sqrt(dt)\n",
        "\n",
        "  return a_LS[0], b_LS[0], sigma_LS"
      ],
      "metadata": {
        "id": "uMogNEeYRKPo"
      },
      "execution_count": 14,
      "outputs": []
    },
    {
      "cell_type": "code",
      "source": [
        "print(\"l'alpha a est %.2f\" % Vasicek_LS(r0, r1, dt)[0][0])\n",
        "print(\"le beta b est %.2f\" % Vasicek_LS(r0, r1, dt)[1][0])\n",
        "print(\"le sigma est %.2f\" % Vasicek_LS(r0, r1, dt)[2])"
      ],
      "metadata": {
        "colab": {
          "base_uri": "https://localhost:8080/"
        },
        "id": "UBOTICNuVBFd",
        "outputId": "a3bdc416-4753-44c7-cfb0-68626367fe95"
      },
      "execution_count": 15,
      "outputs": [
        {
          "output_type": "stream",
          "name": "stdout",
          "text": [
            "l'alpha a est 2.28\n",
            "le beta b est 4.11\n",
            "le sigma est 0.40\n"
          ]
        }
      ]
    },
    {
      "cell_type": "markdown",
      "source": [
        "## Simulons l'euribor 1 mois avec les paramètres du modèle de Vasicek estimés"
      ],
      "metadata": {
        "id": "eGETySDEz4zs"
      }
    },
    {
      "cell_type": "code",
      "source": [
        "def Vasicek(r00, a, b, sigma, T, N):\n",
        "\n",
        "  rates = [r00]\n",
        "  for i in range(N):\n",
        "    dr = a*(b-rates[-1])*dt + \\\n",
        "    sigma* \\\n",
        "    np.sqrt(dt)*np.random.normal()\n",
        "    rates.append(rates[-1] +dr)\n",
        "  return range(N+1), rates"
      ],
      "metadata": {
        "id": "GHGiHEKpv3h6"
      },
      "execution_count": 16,
      "outputs": []
    },
    {
      "cell_type": "code",
      "source": [
        "# Taux au 1er janvier 2023\n",
        "r00 = df['1 month'][0]\n",
        "\n",
        "# Paramètres estimés\n",
        "a = Vasicek_LS(r0, r1, dt)[0][0]\n",
        "b = Vasicek_LS(r0, r1, dt)[1][0]\n",
        "sigma = Vasicek_LS(r0, r1, dt)[2]\n",
        "\n",
        "# Une année et nombres de pas - 1 pour être calé avec les données historiques\n",
        "T = 1\n",
        "N = len(df) - 1"
      ],
      "metadata": {
        "id": "xAmHtKNB7V_e"
      },
      "execution_count": 17,
      "outputs": []
    },
    {
      "cell_type": "code",
      "source": [
        "# Rajout des données simulées au dataframe\n",
        "df['1 month modèle Vasicek'] = Vasicek(r00, a, b, sigma, T, N)[1]"
      ],
      "metadata": {
        "id": "beQwKZKL7ozH"
      },
      "execution_count": 18,
      "outputs": []
    },
    {
      "cell_type": "code",
      "source": [
        "df"
      ],
      "metadata": {
        "colab": {
          "base_uri": "https://localhost:8080/",
          "height": 424
        },
        "id": "Oe5ZXXuY8K4n",
        "outputId": "3ac09ebd-5d64-4d4a-c4bd-360cd5a7d36c"
      },
      "execution_count": 19,
      "outputs": [
        {
          "output_type": "execute_result",
          "data": {
            "text/plain": [
              "          Date  1 week  1 month  3 month  6 month  12 month  \\\n",
              "0   2023-01-02   1.876    1.883    2.162    2.732     3.316   \n",
              "1   2023-01-03   1.838    1.854    2.172    2.739     3.321   \n",
              "2   2023-01-04   1.882    1.888    2.170    2.761     3.312   \n",
              "3   2023-01-05   1.878    1.894    2.178    2.772     3.303   \n",
              "4   2023-01-06   1.890    1.904    2.254    2.805     3.328   \n",
              "..         ...     ...      ...      ...      ...       ...   \n",
              "250 2023-12-21   3.852    3.876    3.916    3.899     3.582   \n",
              "251 2023-12-22   3.872    3.865    3.931    3.895     3.581   \n",
              "252 2023-12-27   3.857    3.843    3.925    3.885     3.554   \n",
              "253 2023-12-28   3.883    3.872    3.893    3.877     3.536   \n",
              "254 2023-12-29   3.900    3.845    3.909    3.861     3.513   \n",
              "\n",
              "     1 month modèle Vasicek  \n",
              "0                  1.883000  \n",
              "1                  1.928027  \n",
              "2                  1.897100  \n",
              "3                  1.914061  \n",
              "4                  1.942177  \n",
              "..                      ...  \n",
              "250                3.951005  \n",
              "251                3.989383  \n",
              "252                3.999984  \n",
              "253                4.011209  \n",
              "254                4.042727  \n",
              "\n",
              "[255 rows x 7 columns]"
            ],
            "text/html": [
              "\n",
              "  <div id=\"df-877b1d46-378b-42d2-92c9-9bb3511d20df\" class=\"colab-df-container\">\n",
              "    <div>\n",
              "<style scoped>\n",
              "    .dataframe tbody tr th:only-of-type {\n",
              "        vertical-align: middle;\n",
              "    }\n",
              "\n",
              "    .dataframe tbody tr th {\n",
              "        vertical-align: top;\n",
              "    }\n",
              "\n",
              "    .dataframe thead th {\n",
              "        text-align: right;\n",
              "    }\n",
              "</style>\n",
              "<table border=\"1\" class=\"dataframe\">\n",
              "  <thead>\n",
              "    <tr style=\"text-align: right;\">\n",
              "      <th></th>\n",
              "      <th>Date</th>\n",
              "      <th>1 week</th>\n",
              "      <th>1 month</th>\n",
              "      <th>3 month</th>\n",
              "      <th>6 month</th>\n",
              "      <th>12 month</th>\n",
              "      <th>1 month modèle Vasicek</th>\n",
              "    </tr>\n",
              "  </thead>\n",
              "  <tbody>\n",
              "    <tr>\n",
              "      <th>0</th>\n",
              "      <td>2023-01-02</td>\n",
              "      <td>1.876</td>\n",
              "      <td>1.883</td>\n",
              "      <td>2.162</td>\n",
              "      <td>2.732</td>\n",
              "      <td>3.316</td>\n",
              "      <td>1.883000</td>\n",
              "    </tr>\n",
              "    <tr>\n",
              "      <th>1</th>\n",
              "      <td>2023-01-03</td>\n",
              "      <td>1.838</td>\n",
              "      <td>1.854</td>\n",
              "      <td>2.172</td>\n",
              "      <td>2.739</td>\n",
              "      <td>3.321</td>\n",
              "      <td>1.928027</td>\n",
              "    </tr>\n",
              "    <tr>\n",
              "      <th>2</th>\n",
              "      <td>2023-01-04</td>\n",
              "      <td>1.882</td>\n",
              "      <td>1.888</td>\n",
              "      <td>2.170</td>\n",
              "      <td>2.761</td>\n",
              "      <td>3.312</td>\n",
              "      <td>1.897100</td>\n",
              "    </tr>\n",
              "    <tr>\n",
              "      <th>3</th>\n",
              "      <td>2023-01-05</td>\n",
              "      <td>1.878</td>\n",
              "      <td>1.894</td>\n",
              "      <td>2.178</td>\n",
              "      <td>2.772</td>\n",
              "      <td>3.303</td>\n",
              "      <td>1.914061</td>\n",
              "    </tr>\n",
              "    <tr>\n",
              "      <th>4</th>\n",
              "      <td>2023-01-06</td>\n",
              "      <td>1.890</td>\n",
              "      <td>1.904</td>\n",
              "      <td>2.254</td>\n",
              "      <td>2.805</td>\n",
              "      <td>3.328</td>\n",
              "      <td>1.942177</td>\n",
              "    </tr>\n",
              "    <tr>\n",
              "      <th>...</th>\n",
              "      <td>...</td>\n",
              "      <td>...</td>\n",
              "      <td>...</td>\n",
              "      <td>...</td>\n",
              "      <td>...</td>\n",
              "      <td>...</td>\n",
              "      <td>...</td>\n",
              "    </tr>\n",
              "    <tr>\n",
              "      <th>250</th>\n",
              "      <td>2023-12-21</td>\n",
              "      <td>3.852</td>\n",
              "      <td>3.876</td>\n",
              "      <td>3.916</td>\n",
              "      <td>3.899</td>\n",
              "      <td>3.582</td>\n",
              "      <td>3.951005</td>\n",
              "    </tr>\n",
              "    <tr>\n",
              "      <th>251</th>\n",
              "      <td>2023-12-22</td>\n",
              "      <td>3.872</td>\n",
              "      <td>3.865</td>\n",
              "      <td>3.931</td>\n",
              "      <td>3.895</td>\n",
              "      <td>3.581</td>\n",
              "      <td>3.989383</td>\n",
              "    </tr>\n",
              "    <tr>\n",
              "      <th>252</th>\n",
              "      <td>2023-12-27</td>\n",
              "      <td>3.857</td>\n",
              "      <td>3.843</td>\n",
              "      <td>3.925</td>\n",
              "      <td>3.885</td>\n",
              "      <td>3.554</td>\n",
              "      <td>3.999984</td>\n",
              "    </tr>\n",
              "    <tr>\n",
              "      <th>253</th>\n",
              "      <td>2023-12-28</td>\n",
              "      <td>3.883</td>\n",
              "      <td>3.872</td>\n",
              "      <td>3.893</td>\n",
              "      <td>3.877</td>\n",
              "      <td>3.536</td>\n",
              "      <td>4.011209</td>\n",
              "    </tr>\n",
              "    <tr>\n",
              "      <th>254</th>\n",
              "      <td>2023-12-29</td>\n",
              "      <td>3.900</td>\n",
              "      <td>3.845</td>\n",
              "      <td>3.909</td>\n",
              "      <td>3.861</td>\n",
              "      <td>3.513</td>\n",
              "      <td>4.042727</td>\n",
              "    </tr>\n",
              "  </tbody>\n",
              "</table>\n",
              "<p>255 rows × 7 columns</p>\n",
              "</div>\n",
              "    <div class=\"colab-df-buttons\">\n",
              "\n",
              "  <div class=\"colab-df-container\">\n",
              "    <button class=\"colab-df-convert\" onclick=\"convertToInteractive('df-877b1d46-378b-42d2-92c9-9bb3511d20df')\"\n",
              "            title=\"Convert this dataframe to an interactive table.\"\n",
              "            style=\"display:none;\">\n",
              "\n",
              "  <svg xmlns=\"http://www.w3.org/2000/svg\" height=\"24px\" viewBox=\"0 -960 960 960\">\n",
              "    <path d=\"M120-120v-720h720v720H120Zm60-500h600v-160H180v160Zm220 220h160v-160H400v160Zm0 220h160v-160H400v160ZM180-400h160v-160H180v160Zm440 0h160v-160H620v160ZM180-180h160v-160H180v160Zm440 0h160v-160H620v160Z\"/>\n",
              "  </svg>\n",
              "    </button>\n",
              "\n",
              "  <style>\n",
              "    .colab-df-container {\n",
              "      display:flex;\n",
              "      gap: 12px;\n",
              "    }\n",
              "\n",
              "    .colab-df-convert {\n",
              "      background-color: #E8F0FE;\n",
              "      border: none;\n",
              "      border-radius: 50%;\n",
              "      cursor: pointer;\n",
              "      display: none;\n",
              "      fill: #1967D2;\n",
              "      height: 32px;\n",
              "      padding: 0 0 0 0;\n",
              "      width: 32px;\n",
              "    }\n",
              "\n",
              "    .colab-df-convert:hover {\n",
              "      background-color: #E2EBFA;\n",
              "      box-shadow: 0px 1px 2px rgba(60, 64, 67, 0.3), 0px 1px 3px 1px rgba(60, 64, 67, 0.15);\n",
              "      fill: #174EA6;\n",
              "    }\n",
              "\n",
              "    .colab-df-buttons div {\n",
              "      margin-bottom: 4px;\n",
              "    }\n",
              "\n",
              "    [theme=dark] .colab-df-convert {\n",
              "      background-color: #3B4455;\n",
              "      fill: #D2E3FC;\n",
              "    }\n",
              "\n",
              "    [theme=dark] .colab-df-convert:hover {\n",
              "      background-color: #434B5C;\n",
              "      box-shadow: 0px 1px 3px 1px rgba(0, 0, 0, 0.15);\n",
              "      filter: drop-shadow(0px 1px 2px rgba(0, 0, 0, 0.3));\n",
              "      fill: #FFFFFF;\n",
              "    }\n",
              "  </style>\n",
              "\n",
              "    <script>\n",
              "      const buttonEl =\n",
              "        document.querySelector('#df-877b1d46-378b-42d2-92c9-9bb3511d20df button.colab-df-convert');\n",
              "      buttonEl.style.display =\n",
              "        google.colab.kernel.accessAllowed ? 'block' : 'none';\n",
              "\n",
              "      async function convertToInteractive(key) {\n",
              "        const element = document.querySelector('#df-877b1d46-378b-42d2-92c9-9bb3511d20df');\n",
              "        const dataTable =\n",
              "          await google.colab.kernel.invokeFunction('convertToInteractive',\n",
              "                                                    [key], {});\n",
              "        if (!dataTable) return;\n",
              "\n",
              "        const docLinkHtml = 'Like what you see? Visit the ' +\n",
              "          '<a target=\"_blank\" href=https://colab.research.google.com/notebooks/data_table.ipynb>data table notebook</a>'\n",
              "          + ' to learn more about interactive tables.';\n",
              "        element.innerHTML = '';\n",
              "        dataTable['output_type'] = 'display_data';\n",
              "        await google.colab.output.renderOutput(dataTable, element);\n",
              "        const docLink = document.createElement('div');\n",
              "        docLink.innerHTML = docLinkHtml;\n",
              "        element.appendChild(docLink);\n",
              "      }\n",
              "    </script>\n",
              "  </div>\n",
              "\n",
              "\n",
              "<div id=\"df-6ec511a5-9c6d-4bbd-a903-a67b043e31fe\">\n",
              "  <button class=\"colab-df-quickchart\" onclick=\"quickchart('df-6ec511a5-9c6d-4bbd-a903-a67b043e31fe')\"\n",
              "            title=\"Suggest charts\"\n",
              "            style=\"display:none;\">\n",
              "\n",
              "<svg xmlns=\"http://www.w3.org/2000/svg\" height=\"24px\"viewBox=\"0 0 24 24\"\n",
              "     width=\"24px\">\n",
              "    <g>\n",
              "        <path d=\"M19 3H5c-1.1 0-2 .9-2 2v14c0 1.1.9 2 2 2h14c1.1 0 2-.9 2-2V5c0-1.1-.9-2-2-2zM9 17H7v-7h2v7zm4 0h-2V7h2v10zm4 0h-2v-4h2v4z\"/>\n",
              "    </g>\n",
              "</svg>\n",
              "  </button>\n",
              "\n",
              "<style>\n",
              "  .colab-df-quickchart {\n",
              "      --bg-color: #E8F0FE;\n",
              "      --fill-color: #1967D2;\n",
              "      --hover-bg-color: #E2EBFA;\n",
              "      --hover-fill-color: #174EA6;\n",
              "      --disabled-fill-color: #AAA;\n",
              "      --disabled-bg-color: #DDD;\n",
              "  }\n",
              "\n",
              "  [theme=dark] .colab-df-quickchart {\n",
              "      --bg-color: #3B4455;\n",
              "      --fill-color: #D2E3FC;\n",
              "      --hover-bg-color: #434B5C;\n",
              "      --hover-fill-color: #FFFFFF;\n",
              "      --disabled-bg-color: #3B4455;\n",
              "      --disabled-fill-color: #666;\n",
              "  }\n",
              "\n",
              "  .colab-df-quickchart {\n",
              "    background-color: var(--bg-color);\n",
              "    border: none;\n",
              "    border-radius: 50%;\n",
              "    cursor: pointer;\n",
              "    display: none;\n",
              "    fill: var(--fill-color);\n",
              "    height: 32px;\n",
              "    padding: 0;\n",
              "    width: 32px;\n",
              "  }\n",
              "\n",
              "  .colab-df-quickchart:hover {\n",
              "    background-color: var(--hover-bg-color);\n",
              "    box-shadow: 0 1px 2px rgba(60, 64, 67, 0.3), 0 1px 3px 1px rgba(60, 64, 67, 0.15);\n",
              "    fill: var(--button-hover-fill-color);\n",
              "  }\n",
              "\n",
              "  .colab-df-quickchart-complete:disabled,\n",
              "  .colab-df-quickchart-complete:disabled:hover {\n",
              "    background-color: var(--disabled-bg-color);\n",
              "    fill: var(--disabled-fill-color);\n",
              "    box-shadow: none;\n",
              "  }\n",
              "\n",
              "  .colab-df-spinner {\n",
              "    border: 2px solid var(--fill-color);\n",
              "    border-color: transparent;\n",
              "    border-bottom-color: var(--fill-color);\n",
              "    animation:\n",
              "      spin 1s steps(1) infinite;\n",
              "  }\n",
              "\n",
              "  @keyframes spin {\n",
              "    0% {\n",
              "      border-color: transparent;\n",
              "      border-bottom-color: var(--fill-color);\n",
              "      border-left-color: var(--fill-color);\n",
              "    }\n",
              "    20% {\n",
              "      border-color: transparent;\n",
              "      border-left-color: var(--fill-color);\n",
              "      border-top-color: var(--fill-color);\n",
              "    }\n",
              "    30% {\n",
              "      border-color: transparent;\n",
              "      border-left-color: var(--fill-color);\n",
              "      border-top-color: var(--fill-color);\n",
              "      border-right-color: var(--fill-color);\n",
              "    }\n",
              "    40% {\n",
              "      border-color: transparent;\n",
              "      border-right-color: var(--fill-color);\n",
              "      border-top-color: var(--fill-color);\n",
              "    }\n",
              "    60% {\n",
              "      border-color: transparent;\n",
              "      border-right-color: var(--fill-color);\n",
              "    }\n",
              "    80% {\n",
              "      border-color: transparent;\n",
              "      border-right-color: var(--fill-color);\n",
              "      border-bottom-color: var(--fill-color);\n",
              "    }\n",
              "    90% {\n",
              "      border-color: transparent;\n",
              "      border-bottom-color: var(--fill-color);\n",
              "    }\n",
              "  }\n",
              "</style>\n",
              "\n",
              "  <script>\n",
              "    async function quickchart(key) {\n",
              "      const quickchartButtonEl =\n",
              "        document.querySelector('#' + key + ' button');\n",
              "      quickchartButtonEl.disabled = true;  // To prevent multiple clicks.\n",
              "      quickchartButtonEl.classList.add('colab-df-spinner');\n",
              "      try {\n",
              "        const charts = await google.colab.kernel.invokeFunction(\n",
              "            'suggestCharts', [key], {});\n",
              "      } catch (error) {\n",
              "        console.error('Error during call to suggestCharts:', error);\n",
              "      }\n",
              "      quickchartButtonEl.classList.remove('colab-df-spinner');\n",
              "      quickchartButtonEl.classList.add('colab-df-quickchart-complete');\n",
              "    }\n",
              "    (() => {\n",
              "      let quickchartButtonEl =\n",
              "        document.querySelector('#df-6ec511a5-9c6d-4bbd-a903-a67b043e31fe button');\n",
              "      quickchartButtonEl.style.display =\n",
              "        google.colab.kernel.accessAllowed ? 'block' : 'none';\n",
              "    })();\n",
              "  </script>\n",
              "</div>\n",
              "    </div>\n",
              "  </div>\n"
            ],
            "application/vnd.google.colaboratory.intrinsic+json": {
              "type": "dataframe",
              "variable_name": "df",
              "summary": "{\n  \"name\": \"df\",\n  \"rows\": 255,\n  \"fields\": [\n    {\n      \"column\": \"Date\",\n      \"properties\": {\n        \"dtype\": \"date\",\n        \"min\": \"2023-01-02 00:00:00\",\n        \"max\": \"2023-12-29 00:00:00\",\n        \"num_unique_values\": 255,\n        \"samples\": [\n          \"2023-09-28 00:00:00\",\n          \"2023-01-10 00:00:00\",\n          \"2023-04-25 00:00:00\"\n        ],\n        \"semantic_type\": \"\",\n        \"description\": \"\"\n      }\n    },\n    {\n      \"column\": \"1 week\",\n      \"properties\": {\n        \"dtype\": \"number\",\n        \"std\": 0.6505893091807751,\n        \"min\": 1.838,\n        \"max\": 3.9,\n        \"num_unique_values\": 185,\n        \"samples\": [\n          2.148,\n          2.482,\n          3.896\n        ],\n        \"semantic_type\": \"\",\n        \"description\": \"\"\n      }\n    },\n    {\n      \"column\": \"1 month\",\n      \"properties\": {\n        \"dtype\": \"number\",\n        \"std\": 0.6067960812633263,\n        \"min\": 1.854,\n        \"max\": 3.893,\n        \"num_unique_values\": 208,\n        \"samples\": [\n          3.651,\n          2.014,\n          3.031\n        ],\n        \"semantic_type\": \"\",\n        \"description\": \"\"\n      }\n    },\n    {\n      \"column\": \"3 month\",\n      \"properties\": {\n        \"dtype\": \"number\",\n        \"std\": 0.5364193829963853,\n        \"min\": 2.162,\n        \"max\": 4.002,\n        \"num_unique_values\": 214,\n        \"samples\": [\n          2.328,\n          3.987,\n          3.126\n        ],\n        \"semantic_type\": \"\",\n        \"description\": \"\"\n      }\n    },\n    {\n      \"column\": \"6 month\",\n      \"properties\": {\n        \"dtype\": \"number\",\n        \"std\": 0.40252634400653603,\n        \"min\": 2.732,\n        \"max\": 4.143,\n        \"num_unique_values\": 207,\n        \"samples\": [\n          4.072,\n          2.917,\n          3.635\n        ],\n        \"semantic_type\": \"\",\n        \"description\": \"\"\n      }\n    },\n    {\n      \"column\": \"12 month\",\n      \"properties\": {\n        \"dtype\": \"number\",\n        \"std\": 0.27791435713674956,\n        \"min\": 3.3,\n        \"max\": 4.228,\n        \"num_unique_values\": 212,\n        \"samples\": [\n          3.518,\n          4.196,\n          4.053\n        ],\n        \"semantic_type\": \"\",\n        \"description\": \"\"\n      }\n    },\n    {\n      \"column\": \"1 month mod\\u00e8le Vasicek\",\n      \"properties\": {\n        \"dtype\": \"number\",\n        \"std\": 0.5596421420141672,\n        \"min\": 1.883,\n        \"max\": 4.042726675055816,\n        \"num_unique_values\": 255,\n        \"samples\": [\n          3.5558221756902064,\n          2.004710485876116,\n          3.1968093993782585\n        ],\n        \"semantic_type\": \"\",\n        \"description\": \"\"\n      }\n    }\n  ]\n}"
            }
          },
          "metadata": {},
          "execution_count": 19
        }
      ]
    },
    {
      "cell_type": "markdown",
      "source": [
        "## Création du graphique pour comparer les données historiques avec une simulation"
      ],
      "metadata": {
        "id": "OuWEf7Gq2I-K"
      }
    },
    {
      "cell_type": "code",
      "source": [
        "\n",
        "\n",
        "fig = plt.figure(figsize=(12, 8))\n",
        "ax = fig.add_subplot(111)\n",
        "ax.plot(df['Date'], df['1 month'], label='Taux Euribor 1 mois')\n",
        "ax.plot(df['Date'], df['1 month modèle Vasicek'], label='Taux Euribor 1 mois modèle Vasicek')\n",
        "ax.set_xlabel(\"Date\")\n",
        "ax.set_ylabel(\"Taux\")\n",
        "ax.legend()"
      ],
      "metadata": {
        "id": "YceHQJ-S9Hi6",
        "colab": {
          "base_uri": "https://localhost:8080/",
          "height": 713
        },
        "outputId": "91093291-bba6-4507-f3f9-1eb58ba11375"
      },
      "execution_count": 20,
      "outputs": [
        {
          "output_type": "execute_result",
          "data": {
            "text/plain": [
              "<matplotlib.legend.Legend at 0x7baf37130820>"
            ]
          },
          "metadata": {},
          "execution_count": 20
        },
        {
          "output_type": "display_data",
          "data": {
            "text/plain": [
              "<Figure size 1200x800 with 1 Axes>"
            ],
            "image/png": "[encoded data removed]"
          },
          "metadata": {}
        }
      ]
    },
    {
      "cell_type": "code",
      "source": [],
      "metadata": {
        "id": "6ri7CBPhwM1I"
      },
      "execution_count": null,
      "outputs": []
    },
    {
      "cell_type": "code",
      "source": [],
      "metadata": {
        "id": "kdZiikMEwSS_"
      },
      "execution_count": null,
      "outputs": []
    }
  ]
}